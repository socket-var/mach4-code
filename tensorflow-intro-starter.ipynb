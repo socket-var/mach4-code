{
 "cells": [
  {
   "cell_type": "markdown",
   "metadata": {
    "collapsed": true
   },
   "source": [
    "Intro to Tensorflow\n",
    "---\n",
    "\n",
    "Import tensorflow and other needed libraries here:"
   ]
  },
  {
   "cell_type": "code",
   "execution_count": 1,
   "metadata": {},
   "outputs": [],
   "source": [
    "# TODO: Add imports.\n",
    "import tensorflow as tf\n",
    "import matplotlib.pyplot as plt\n",
    "\n",
    "%matplotlib inline"
   ]
  },
  {
   "cell_type": "code",
   "execution_count": 2,
   "metadata": {},
   "outputs": [],
   "source": [
    "b = tf.constant(10.0, dtype=tf.float32)\n",
    "m = tf.Variable(10.0, dtype=tf.float32)"
   ]
  },
  {
   "cell_type": "code",
   "execution_count": 3,
   "metadata": {},
   "outputs": [],
   "source": [
    "x = tf.placeholder(dtype=tf.float32)\n",
    "\n"
   ]
  },
  {
   "cell_type": "code",
   "execution_count": 4,
   "metadata": {},
   "outputs": [
    {
     "name": "stdout",
     "output_type": "stream",
     "text": [
      "[ 10.  20.  30.  40.  50.  70.  90. 110. 150. 190.]\n",
      "[ 10.  30.  50.  70.  90. 130. 170. 210. 290. 370.]\n"
     ]
    }
   ],
   "source": [
    "# TODO: Run a session\n",
    "\n",
    "init = tf.global_variables_initializer()\n",
    "\n",
    "x_values = [0, 1, 2, 3, 4, 6, 8, 10, 14, 18]\n",
    "\n",
    "with tf.Session() as sess:\n",
    "    sess.run(init)\n",
    "    for i in range(2):\n",
    "        y = m * x + b\n",
    "        print(sess.run(y, feed_dict={x:x_values}))\n",
    "        m = tf.assign(m, 20.0)"
   ]
  }
 ],
 "metadata": {
  "kernelspec": {
   "display_name": "Python 3",
   "language": "python",
   "name": "python3"
  },
  "language_info": {
   "codemirror_mode": {
    "name": "ipython",
    "version": 3
   },
   "file_extension": ".py",
   "mimetype": "text/x-python",
   "name": "python",
   "nbconvert_exporter": "python",
   "pygments_lexer": "ipython3",
   "version": "3.6.8"
  }
 },
 "nbformat": 4,
 "nbformat_minor": 1
}
