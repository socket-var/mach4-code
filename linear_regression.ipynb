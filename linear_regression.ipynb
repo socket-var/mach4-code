{
 "cells": [
  {
   "cell_type": "code",
   "execution_count": 1,
   "metadata": {},
   "outputs": [],
   "source": [
    "import numpy as np \n",
    "import tensorflow as tf \n",
    "import matplotlib.pyplot as plt \n"
   ]
  },
  {
   "cell_type": "code",
   "execution_count": 2,
   "metadata": {},
   "outputs": [],
   "source": [
    "np.random.seed(101) \n",
    "tf.set_random_seed(101) \n"
   ]
  },
  {
   "cell_type": "code",
   "execution_count": 3,
   "metadata": {},
   "outputs": [],
   "source": [
    "# Genrating random linear data \n",
    "# There will be 50 data points ranging from 0 to 50 \n",
    "x = np.linspace(0, 50, 50) \n",
    "y = np.linspace(0, 50, 50) \n",
    "\n",
    "# Adding noise to the random linear data \n",
    "x += np.random.uniform(-4, 4, 50) \n",
    "y += np.random.uniform(-4, 4, 50) \n",
    "\n",
    "n = len(x) # Number of data points \n"
   ]
  },
  {
   "cell_type": "code",
   "execution_count": 4,
   "metadata": {},
   "outputs": [
    {
     "data": {
      "image/png": "[encoded data removed]",
      "text/plain": [
       "<Figure size 432x288 with 1 Axes>"
      ]
     },
     "metadata": {
      "needs_background": "light"
     },
     "output_type": "display_data"
    }
   ],
   "source": [
    "# Plot of Training Data \n",
    "plt.scatter(x, y) \n",
    "plt.xlabel('x') \n",
    "plt.xlabel('y') \n",
    "plt.title(\"Training Data\") \n",
    "plt.show() \n"
   ]
  },
  {
   "cell_type": "code",
   "execution_count": 5,
   "metadata": {},
   "outputs": [],
   "source": [
    "X = tf.placeholder(\"float\") \n",
    "x = (x - np.mean(x)) / np.std(x)\n",
    "Y = tf.placeholder(\"float\") "
   ]
  },
  {
   "cell_type": "code",
   "execution_count": 6,
   "metadata": {},
   "outputs": [],
   "source": [
    "W = tf.Variable(np.random.randn(), name = \"W\") \n",
    "b = tf.Variable(np.random.randn(), name = \"b\") \n"
   ]
  },
  {
   "cell_type": "code",
   "execution_count": 7,
   "metadata": {},
   "outputs": [],
   "source": [
    "learning_rate = 0.01\n",
    "training_epochs = 1000\n"
   ]
  },
  {
   "cell_type": "code",
   "execution_count": 8,
   "metadata": {},
   "outputs": [],
   "source": [
    "# Hypothesis \n",
    "y_pred = tf.add(tf.multiply(X, W), b) \n",
    "\n",
    "# Mean Squared Error Cost Function \n",
    "cost = tf.reduce_sum(tf.pow(y_pred-Y, 2)) / (2 * n) \n",
    "\n",
    "# Gradient Descent Optimizer \n",
    "optimizer = tf.train.GradientDescentOptimizer(learning_rate).minimize(cost) \n",
    "\n",
    "# Global Variables Initializer \n",
    "init = tf.global_variables_initializer() \n"
   ]
  },
  {
   "cell_type": "code",
   "execution_count": 9,
   "metadata": {},
   "outputs": [
    {
     "name": "stdout",
     "output_type": "stream",
     "text": [
      "Epoch 50 : cost = 152.2749 W = 5.2457337 b = 10.572481\n",
      "Epoch 100 : cost = 58.789974 W = 9.052741 b = 16.186768\n",
      "Epoch 150 : cost = 24.571465 W = 11.356006 b = 19.583445\n",
      "Epoch 200 : cost = 12.046374 W = 12.749495 b = 21.638458\n",
      "Epoch 250 : cost = 7.4617896 W = 13.592563 b = 22.881756\n",
      "Epoch 300 : cost = 5.7836986 W = 14.102624 b = 23.63395\n",
      "Epoch 350 : cost = 5.1694627 W = 14.411215 b = 24.08903\n",
      "Epoch 400 : cost = 4.94463 W = 14.597914 b = 24.364357\n",
      "Epoch 450 : cost = 4.862333 W = 14.710869 b = 24.53094\n",
      "Epoch 500 : cost = 4.83221 W = 14.779205 b = 24.631718\n",
      "Epoch 550 : cost = 4.821183 W = 14.820552 b = 24.692692\n",
      "Epoch 600 : cost = 4.8171477 W = 14.845565 b = 24.72958\n",
      "Epoch 650 : cost = 4.8156714 W = 14.860698 b = 24.751892\n",
      "Epoch 700 : cost = 4.8151298 W = 14.869855 b = 24.765398\n",
      "Epoch 750 : cost = 4.8149314 W = 14.875393 b = 24.773565\n",
      "Epoch 800 : cost = 4.81486 W = 14.878744 b = 24.778513\n",
      "Epoch 850 : cost = 4.8148336 W = 14.880772 b = 24.7815\n",
      "Epoch 900 : cost = 4.8148236 W = 14.881999 b = 24.783308\n",
      "Epoch 950 : cost = 4.8148212 W = 14.88274 b = 24.784403\n",
      "Epoch 1000 : cost = 4.8148184 W = 14.883189 b = 24.785065\n"
     ]
    }
   ],
   "source": [
    "# Starting the Tensorflow Session \n",
    "with tf.Session() as sess: \n",
    "\t\n",
    "\t# Initializing the Variables \n",
    "\tsess.run(init) \n",
    "\t\n",
    "\t# Iterating through all the epochs \n",
    "\tfor epoch in range(training_epochs): \n",
    "\t\t\n",
    "\t\t# Feeding each data point into the optimizer using Feed Dictionary \n",
    "\n",
    "\t\tsess.run(optimizer, feed_dict = {X : x, Y : y}) \n",
    "\t\t\n",
    "\t\t# Displaying the result after every 50 epochs \n",
    "\t\tif (epoch + 1) % 50 == 0: \n",
    "\t\t\t# Calculating the cost a every epoch \n",
    "\t\t\tc = sess.run(cost, feed_dict = {X : x, Y : y}) \n",
    "\t\t\tprint(\"Epoch\", (epoch + 1), \": cost =\", c, \"W =\", sess.run(W), \"b =\", sess.run(b)) \n",
    "\t\n",
    "\t# Storing necessary values to be used outside the Session \n",
    "\ttraining_cost = sess.run(cost, feed_dict ={X: x, Y: y}) \n",
    "\tweight = sess.run(W) \n",
    "\tbias = sess.run(b) \n"
   ]
  },
  {
   "cell_type": "code",
   "execution_count": 10,
   "metadata": {},
   "outputs": [
    {
     "name": "stdout",
     "output_type": "stream",
     "text": [
      "Training cost = 4.8148184 Weight = 14.883189 bias = 24.785065 \n",
      "\n"
     ]
    }
   ],
   "source": [
    "# Calculating the predictions \n",
    "predictions = weight * x + bias \n",
    "print(\"Training cost =\", training_cost, \"Weight =\", weight, \"bias =\", bias, '\\n') \n"
   ]
  },
  {
   "cell_type": "code",
   "execution_count": 11,
   "metadata": {},
   "outputs": [
    {
     "data": {
      "image/png": "[encoded data removed]",
      "text/plain": [
       "<Figure size 432x288 with 1 Axes>"
      ]
     },
     "metadata": {
      "needs_background": "light"
     },
     "output_type": "display_data"
    }
   ],
   "source": [
    "# Plotting the Results \n",
    "plt.plot(x, y, 'ro', label ='Original data') \n",
    "plt.plot(x, predictions, label ='Fitted line') \n",
    "plt.title('Linear Regression Result') \n",
    "plt.legend() \n",
    "plt.show() \n"
   ]
  },
  {
   "cell_type": "code",
   "execution_count": null,
   "metadata": {},
   "outputs": [],
   "source": []
  }
 ],
 "metadata": {
  "kernelspec": {
   "display_name": "Python 3",
   "language": "python",
   "name": "python3"
  },
  "language_info": {
   "codemirror_mode": {
    "name": "ipython",
    "version": 3
   },
   "file_extension": ".py",
   "mimetype": "text/x-python",
   "name": "python",
   "nbconvert_exporter": "python",
   "pygments_lexer": "ipython3",
   "version": "3.6.8"
  }
 },
 "nbformat": 4,
 "nbformat_minor": 2
}
